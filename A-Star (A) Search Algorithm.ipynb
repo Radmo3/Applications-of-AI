{
  "cells": [
    {
      "cell_type": "markdown",
      "metadata": {
        "id": "dB4_y4GBm0tt"
      },
      "source": [
        "# A-Star Search Algorithm"
      ]
    },
    {
      "cell_type": "markdown",
      "metadata": {
        "id": "hRmWMPwTm5Ob"
      },
      "source": [
        "This notebook complements the walkthrough article [here](https://towardsdatascience.com/a-star-a-search-algorithm-eb495fb156bb) on the A-Star search algorithm. Throughout the notebook, we ask to you finish sections on your own and answer questions."
      ]
    },
    {
      "cell_type": "markdown",
      "metadata": {
        "id": "auBnTGWHoMle"
      },
      "source": [
        "## [Question - Describe A*]\n",
        "Describe A* search in your own words.\n",
        "\n",
        "A* is search algorithm used to find shortest path between two given points. This pathfinder algorithm is based on two important properties that mentioned bewlow:\n",
        "1. Optimality - refers to the surerity of finding the best solution.\n",
        "2. Completness - refers to the existense of a solution which the alogorithm shall find. "
      ]
    },
    {
      "cell_type": "markdown",
      "metadata": {
        "id": "FsP7pSLAoooN"
      },
      "source": [
        "## [Question - Describe h and g]\n",
        "In A* search, describe the two key elements of *f(n)* (namely *h(n)* and *g(n)*). What do they represent in the algorithm and how do they differ?\n",
        "\n",
        "One important aspect of A* is F = G + H. The f, g, and h variables are in Node class and get calculated every time we create a new node. The representation is give below.\n",
        "\n",
        "F - total cost of the node.\n",
        "G - distance between the current node and the start node.\n",
        "H - heuristic, estimated distance from the current node to the end node.\n",
        "\n",
        "The total cost f is the summation of actual distance bewtween nodes and the estimated distance. \n",
        "\n"
      ]
    },
    {
      "cell_type": "markdown",
      "metadata": {
        "id": "-_VkEgNWuMDK"
      },
      "source": [
        "## [Activity - run Node]\n",
        "Examine and run the below code."
      ]
    },
    {
      "cell_type": "code",
      "execution_count": null,
      "metadata": {
        "id": "ufRvBVJBmmxA"
      },
      "outputs": [],
      "source": [
        "\n",
        "class Node():\n",
        "    \"\"\"A node class for A* Pathfinding\"\"\"\n",
        "\n",
        "    def __init__(self, parent=None, position=None):\n",
        "        self.parent = parent\n",
        "        self.position = position\n",
        "\n",
        "        self.g = 0\n",
        "        self.h = 0\n",
        "        self.f = 0\n",
        "\n",
        "    def __eq__(self, other):\n",
        "        return self.position == other.position"
      ]
    },
    {
      "cell_type": "markdown",
      "metadata": {
        "id": "Ucsmb_lfuTrp"
      },
      "source": [
        "## [Question - Explain 'Node']\n",
        "In your own words, describe what the purpose of the *Node* class is. Why do we have to initialize a parent and a position?\n",
        "\n",
        "Class node is utilized to create objects with information of the parent node, position  and cost associated with it. Since we need to define a path function from the start node, we need to initialize the parent node and a position. \n"
      ]
    },
    {
      "cell_type": "markdown",
      "metadata": {
        "id": "B6s0TVMuur8t"
      },
      "source": [
        "## [Activity - Run astar() ]"
      ]
    },
    {
      "cell_type": "code",
      "execution_count": null,
      "metadata": {
        "id": "wYzrkdjZpxZs"
      },
      "outputs": [],
      "source": [
        "def astar(maze, start, end):\n",
        "    \"\"\"Returns a list of tuples as a path from the given start to the given end in the given maze\"\"\"\n",
        "\n",
        "    # Create start and end node\n",
        "    start_node = Node(None, start)\n",
        "    start_node.g = start_node.h = start_node.f = 0\n",
        "    end_node = Node(None, end)\n",
        "    end_node.g = end_node.h = end_node.f = 0\n",
        "\n",
        "    # Initialize both open and closed list\n",
        "    open_list = []\n",
        "    closed_list = []\n",
        "\n",
        "    # Add the start node\n",
        "    open_list.append(start_node)\n",
        "\n",
        "    # Loop until you find the end\n",
        "    while len(open_list) > 0:\n",
        "\n",
        "        # Get the current node\n",
        "        current_node = open_list[0]\n",
        "        current_index = 0\n",
        "        for index, item in enumerate(open_list):\n",
        "            if item.f < current_node.f:\n",
        "                current_node = item\n",
        "                current_index = index\n",
        "\n",
        "        # Pop current off open list, add to closed list\n",
        "        open_list.pop(current_index)\n",
        "        closed_list.append(current_node)\n",
        "\n",
        "        # Found the goal\n",
        "        if current_node == end_node:\n",
        "            path = []\n",
        "            current = current_node\n",
        "            while current is not None:\n",
        "                path.append(current.position)\n",
        "                current = current.parent\n",
        "            return path[::-1] # Return reversed path\n",
        "\n",
        "        # Generate children\n",
        "        children = []\n",
        "        for new_position in [(0, -1), (0, 1), (-1, 0), (1, 0), (-1, -1), (-1, 1), (1, -1), (1, 1)]: # Adjacent squares\n",
        "\n",
        "            # Get node position\n",
        "            node_position = (current_node.position[0] + new_position[0], current_node.position[1] + new_position[1])\n",
        "\n",
        "            # Make sure within range\n",
        "            if node_position[0] > (len(maze) - 1) or node_position[0] < 0 or node_position[1] > (len(maze[len(maze)-1]) -1) or node_position[1] < 0:\n",
        "                continue\n",
        "\n",
        "            # Make sure walkable terrain\n",
        "            if maze[node_position[0]][node_position[1]] != 0:\n",
        "                continue\n",
        "\n",
        "            # Create new node\n",
        "            new_node = Node(current_node, node_position)\n",
        "\n",
        "            # Append\n",
        "            children.append(new_node)\n",
        "\n",
        "        # Loop through children\n",
        "        for child in children:\n",
        "\n",
        "            # Child is on the closed list\n",
        "            if child in closed_list:\n",
        "              continue\n",
        "\n",
        "            # Create the f, g, and h values\n",
        "            child.g = current_node.g + 1\n",
        "            child.h = ((child.position[0] - end_node.position[0]) ** 2) + ((child.position[1] - end_node.position[1]) ** 2)\n",
        "            child.f = child.g + child.h\n",
        "\n",
        "            # Child is already in the open list\n",
        "            for open_node in open_list:\n",
        "                if child == open_node and child.g > open_node.g:\n",
        "                    continue\n",
        "\n",
        "            # Add the child to the open list\n",
        "            open_list.append(child)\n"
      ]
    },
    {
      "cell_type": "markdown",
      "metadata": {
        "id": "hral7UX2vF0z"
      },
      "source": [
        "\n",
        "## [Question - Explain maze]\n",
        "What type of input should value of *maze* be?\n",
        "\n",
        "2 dimenstion arrays "
      ]
    },
    {
      "cell_type": "markdown",
      "metadata": {
        "id": "EcB70Wbet1-w"
      },
      "source": [
        "## [Question - Build Main]\n",
        "Please use the above code that uses the astar() function to define a path from the beginning to the end of a maze. You can choose how the maze looks and where the start and end are."
      ]
    },
    {
      "cell_type": "code",
      "execution_count": null,
      "metadata": {
        "id": "MY8tTsSbt1XE",
        "outputId": "f6dc0666-1439-4f1b-dfc2-fdc095c2d67a"
      },
      "outputs": [
        {
          "name": "stdout",
          "output_type": "stream",
          "text": [
            "[(0, 0), (1, 0), (2, 1), (2, 2), (3, 3), (4, 4), (5, 5), (6, 6), (7, 7)]\n"
          ]
        }
      ],
      "source": [
        "## [Your Code Here]\n",
        "def main():\n",
        "\n",
        "    maze = [[0, 1, 0, 0, 0, 0, 0, 0, 0],\n",
        "            [0, 1, 0, 0, 0, 0, 0, 1, 0],\n",
        "            [0, 0, 0, 0, 0, 0, 0, 0, 0],\n",
        "            [0, 0, 1, 0, 0, 0, 0, 0, 0],\n",
        "            [0, 0, 0, 0, 0, 0, 1, 0, 0],\n",
        "            [0, 0, 0, 0, 1, 0, 0, 0, 0],\n",
        "            [0, 0, 0, 0, 0, 1, 0, 0, 0],\n",
        "            [0, 0, 0, 0, 0, 0, 1, 0, 0],\n",
        "            [0, 0, 0, 0, 0, 0, 0, 0, 0]]\n",
        "\n",
        "    start = (0, 0)\n",
        "    end = (7, 7)\n",
        "\n",
        "    path = astar(maze, start, end)\n",
        "    print(path)\n",
        "\n",
        "\n",
        "if __name__ == '__main__':\n",
        "    main()"
      ]
    },
    {
      "cell_type": "markdown",
      "metadata": {
        "id": "_t_M9LWSwc79"
      },
      "source": [
        "## [Question - Impossible Maze]\n",
        "Now create a maze that the algorithm cannot solve. What is the output of the algorithm?"
      ]
    },
    {
      "cell_type": "code",
      "execution_count": null,
      "metadata": {
        "id": "yoQ3fuVbwnuv",
        "outputId": "5b5cfe99-07c5-4598-8066-1a49ee9cafc7"
      },
      "outputs": [
        {
          "name": "stdout",
          "output_type": "stream",
          "text": [
            "None\n"
          ]
        }
      ],
      "source": [
        "## [Your Code Here]\n",
        "\n",
        "def main():\n",
        "\n",
        "    maze = [[0, 0, 1, 0, 0, 0, 0, 0, 0],\n",
        "            [0, 0, 1, 0, 1, 0, 0, 0, 0],\n",
        "            [0, 0, 1, 0, 0, 0, 0, 0, 0],\n",
        "            [1, 1, 1, 0, 1, 0, 0, 0, 0],\n",
        "            [0, 0, 0, 0, 1, 0, 0, 0, 0],\n",
        "            [0, 0, 0, 0, 1, 0, 0, 0, 0],\n",
        "            [0, 0, 0, 0, 1, 0, 0, 0, 0],\n",
        "            [0, 0, 0, 0, 1, 0, 0, 0, 0],\n",
        "            [0, 0, 0, 0, 0, 0, 0, 0, 0]]\n",
        "\n",
        "    start = (0, 0)\n",
        "    end = (8, 8)\n",
        "\n",
        "    path = astar(maze, start, end)\n",
        "    print(path)\n",
        "\n",
        "\n",
        "if __name__ == '__main__':\n",
        "    main()"
      ]
    },
    {
      "cell_type": "markdown",
      "metadata": {
        "id": "bABMYK7WJSMO"
      },
      "source": [
        "The maze is blocked with 1s and hence the A* cannot find a way out, the result for it likewise NONE."
      ]
    },
    {
      "cell_type": "code",
      "execution_count": null,
      "metadata": {
        "id": "rK9-PTMvJSMO"
      },
      "outputs": [],
      "source": []
    }
  ],
  "metadata": {
    "colab": {
      "collapsed_sections": [],
      "provenance": [],
      "toc_visible": true
    },
    "kernelspec": {
      "display_name": "Python 3 (ipykernel)",
      "language": "python",
      "name": "python3"
    },
    "language_info": {
      "codemirror_mode": {
        "name": "ipython",
        "version": 3
      },
      "file_extension": ".py",
      "mimetype": "text/x-python",
      "name": "python",
      "nbconvert_exporter": "python",
      "pygments_lexer": "ipython3",
      "version": "3.9.12"
    }
  },
  "nbformat": 4,
  "nbformat_minor": 0
}