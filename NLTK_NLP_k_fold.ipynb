{
  "cells": [
    {
      "cell_type": "markdown",
      "metadata": {
        "id": "K1RJhMtpOLk7"
      },
      "source": []
    },
    {
      "cell_type": "code",
      "execution_count": null,
      "metadata": {
        "colab": {
          "base_uri": "https://localhost:8080/"
        },
        "id": "tR1gB9a1OJ7t",
        "outputId": "e2fdfde9-6d12-4f0f-cdf8-103f5e80b99c"
      },
      "outputs": [
        {
          "name": "stdout",
          "output_type": "stream",
          "text": [
            "(1000, 20) (1000,)\n"
          ]
        }
      ],
      "source": [
        "# Importing required dependancies \n",
        "from sklearn.datasets import make_classification\n",
        "# define dataset\n",
        "X, y = make_classification(n_samples=1000, n_features=20, n_informative=15, n_redundant=5, random_state=1)\n",
        "# summarize the dataset\n",
        "print(X.shape, y.shape)"
      ]
    },
    {
      "cell_type": "code",
      "execution_count": null,
      "metadata": {
        "colab": {
          "base_uri": "https://localhost:8080/"
        },
        "id": "ybA00qditEI6",
        "outputId": "fd657cf9-cf76-40f0-e5e7-d57d2adb3e1a"
      },
      "outputs": [
        {
          "name": "stdout",
          "output_type": "stream",
          "text": [
            "Accuracy: 0.721 (0.035)\n"
          ]
        }
      ],
      "source": [
        "# evaluate a logistic regression model using k-fold cross-validation\n",
        "from numpy import mean\n",
        "from numpy import std\n",
        "from sklearn.datasets import make_classification\n",
        "from sklearn.model_selection import KFold\n",
        "from sklearn.model_selection import cross_val_score\n",
        "from sklearn.linear_model import LogisticRegression\n",
        "# create dataset\n",
        "X, y = make_classification(n_samples=1000, n_features=20, n_informative=15, n_redundant=5, random_state=42)\n",
        "# prepare the cross-validation procedure\n",
        "cv = KFold(n_splits=10, random_state=1, shuffle=True)\n",
        "# create model\n",
        "model = LogisticRegression()\n",
        "# evaluate model\n",
        "scores = cross_val_score(model, X, y, scoring='accuracy', cv=cv, n_jobs=-1)\n",
        "# report performance\n",
        "print('Accuracy: %.3f (%.3f)' % (mean(scores), std(scores)))"
      ]
    },
    {
      "cell_type": "markdown",
      "metadata": {
        "id": "EqPINSNntXlt"
      },
      "source": [
        "#### Checking the acuuracy for following K values to 9,10,11,12,13 "
      ]
    },
    {
      "cell_type": "code",
      "execution_count": null,
      "metadata": {
        "colab": {
          "base_uri": "https://localhost:8080/"
        },
        "id": "f1eiaEALtsw8",
        "outputId": "0fe88ad9-ebd3-4c9f-c593-99701a95a083"
      },
      "outputs": [
        {
          "name": "stdout",
          "output_type": "stream",
          "text": [
            "Accuracy: 0.811 (0.038)\n"
          ]
        }
      ],
      "source": [
        "# evaluate a logistic regression model using repeated k-fold cross-validation\n",
        "from numpy import mean\n",
        "from numpy import std\n",
        "from sklearn.datasets import make_classification\n",
        "from sklearn.model_selection import RepeatedKFold\n",
        "from sklearn.model_selection import cross_val_score\n",
        "from sklearn.linear_model import LogisticRegression\n",
        "# create dataset\n",
        "X, y = make_classification(n_samples=1000, n_features=20, n_informative=15, n_redundant=5, random_state=42)\n",
        "# prepare the cross-validation procedure\n",
        "cv = RepeatedKFold(n_splits=10, n_repeats=3, random_state=1)\n",
        "# create model\n",
        "model = LogisticRegression()\n",
        "# evaluate model\n",
        "scores = cross_val_score(model, X, y, scoring='accuracy', cv=cv, n_jobs=-1)\n",
        "# report performance\n",
        "print('Accuracy: %.3f (%.3f)' % (mean(scores), std(scores)))"
      ]
    },
    {
      "cell_type": "code",
      "execution_count": null,
      "metadata": {
        "colab": {
          "base_uri": "https://localhost:8080/",
          "height": 580
        },
        "id": "QppbLOXZuDzB",
        "outputId": "1d349010-49b2-4dc3-fa79-39a6f793e38e"
      },
      "outputs": [
        {
          "name": "stdout",
          "output_type": "stream",
          "text": [
            ">1 mean=0.8680 se=0.011\n",
            ">2 mean=0.8675 se=0.008\n",
            ">3 mean=0.8673 se=0.006\n",
            ">4 mean=0.8670 se=0.006\n",
            ">5 mean=0.8658 se=0.005\n",
            ">6 mean=0.8655 se=0.004\n",
            ">7 mean=0.8651 se=0.004\n",
            ">8 mean=0.8651 se=0.004\n",
            ">9 mean=0.8656 se=0.003\n",
            ">10 mean=0.8658 se=0.003\n",
            ">11 mean=0.8655 se=0.003\n",
            ">12 mean=0.8654 se=0.003\n",
            ">13 mean=0.8652 se=0.003\n",
            ">14 mean=0.8651 se=0.003\n",
            ">15 mean=0.8653 se=0.003\n"
          ]
        },
        {
          "data": {
            "image/png": "[encoded data removed]",
            "text/plain": [
              "<Figure size 432x288 with 1 Axes>"
            ]
          },
          "metadata": {
            "needs_background": "light"
          },
          "output_type": "display_data"
        }
      ],
      "source": [
        "# compare the number of repeats for repeated k-fold cross-validation\n",
        "from scipy.stats import sem\n",
        "from numpy import mean\n",
        "from numpy import std\n",
        "from sklearn.datasets import make_classification\n",
        "from sklearn.model_selection import RepeatedKFold\n",
        "from sklearn.model_selection import cross_val_score\n",
        "from sklearn.linear_model import LogisticRegression\n",
        "from matplotlib import pyplot\n",
        "\n",
        "# evaluate a model with a given number of repeats\n",
        "def evaluate_model(X, y, repeats):\n",
        "\t# prepare the cross-validation procedure\n",
        "\tcv = RepeatedKFold(n_splits=10, n_repeats=repeats, random_state=1)\n",
        "\t# create model\n",
        "\tmodel = LogisticRegression()\n",
        "\t# evaluate model\n",
        "\tscores = cross_val_score(model, X, y, scoring='accuracy', cv=cv, n_jobs=-1)\n",
        "\treturn scores\n",
        "\n",
        "# create dataset\n",
        "X, y = make_classification(n_samples=1000, n_features=20, n_informative=15, n_redundant=5, random_state=1)\n",
        "# configurations to test\n",
        "repeats = range(1,16)\n",
        "results = list()\n",
        "for r in repeats:\n",
        "\t# evaluate using a given number of repeats\n",
        "\tscores = evaluate_model(X, y, r)\n",
        "\t# summarize\n",
        "\tprint('>%d mean=%.4f se=%.3f' % (r, mean(scores), sem(scores)))\n",
        "\t# store\n",
        "\tresults.append(scores)\n",
        "# plot the results\n",
        "pyplot.boxplot(results, labels=[str(r) for r in repeats], showmeans=True)\n",
        "pyplot.show()"
      ]
    },
    {
      "cell_type": "markdown",
      "metadata": {
        "id": "Fp4BE8M7uVG9"
      },
      "source": [
        "#### Trying the k value to check accuracy again "
      ]
    },
    {
      "cell_type": "markdown",
      "metadata": {
        "id": "tH2H9Rj_umeK"
      },
      "source": [
        "#K=9"
      ]
    },
    {
      "cell_type": "code",
      "execution_count": null,
      "metadata": {
        "colab": {
          "base_uri": "https://localhost:8080/"
        },
        "id": "pVppEVwBvgiV",
        "outputId": "254dc6dd-d590-456d-f7e0-ee6320e60c9c"
      },
      "outputs": [
        {
          "name": "stdout",
          "output_type": "stream",
          "text": [
            "Accuracy: 0.867 (0.038)\n"
          ]
        }
      ],
      "source": [
        "# evaluate a logistic regression model using repeated k-fold cross-validation\n",
        "from numpy import mean\n",
        "from numpy import std\n",
        "from sklearn.datasets import make_classification\n",
        "from sklearn.model_selection import RepeatedKFold\n",
        "from sklearn.model_selection import cross_val_score\n",
        "from sklearn.linear_model import LogisticRegression\n",
        "# create dataset\n",
        "X, y = make_classification(n_samples=1000, n_features=20, n_informative=15, n_redundant=5, random_state=1)\n",
        "# prepare the cross-validation procedure\n",
        "cv = RepeatedKFold(n_splits=9, n_repeats=3, random_state=1)\n",
        "# create model\n",
        "model = LogisticRegression()\n",
        "# evaluate model\n",
        "scores = cross_val_score(model, X, y, scoring='accuracy', cv=cv, n_jobs=-1)\n",
        "# report performance\n",
        "print('Accuracy: %.3f (%.3f)' % (mean(scores), std(scores)))"
      ]
    },
    {
      "cell_type": "code",
      "execution_count": null,
      "metadata": {
        "colab": {
          "base_uri": "https://localhost:8080/",
          "height": 580
        },
        "id": "FPlWmvNHufxA",
        "outputId": "33f7a1cb-a655-4aa8-e490-1366ca45c94f"
      },
      "outputs": [
        {
          "name": "stdout",
          "output_type": "stream",
          "text": [
            ">1 mean=0.8650 se=0.011\n",
            ">2 mean=0.8655 se=0.010\n",
            ">3 mean=0.8667 se=0.007\n",
            ">4 mean=0.8665 se=0.007\n",
            ">5 mean=0.8656 se=0.005\n",
            ">6 mean=0.8648 se=0.005\n",
            ">7 mean=0.8650 se=0.004\n",
            ">8 mean=0.8649 se=0.004\n",
            ">9 mean=0.8650 se=0.004\n",
            ">10 mean=0.8651 se=0.003\n",
            ">11 mean=0.8651 se=0.003\n",
            ">12 mean=0.8652 se=0.003\n",
            ">13 mean=0.8655 se=0.003\n",
            ">14 mean=0.8657 se=0.003\n",
            ">15 mean=0.8657 se=0.003\n"
          ]
        },
        {
          "data": {
            "image/png": "[encoded data removed]",
            "text/plain": [
              "<Figure size 432x288 with 1 Axes>"
            ]
          },
          "metadata": {
            "needs_background": "light"
          },
          "output_type": "display_data"
        }
      ],
      "source": [
        "# compare the number of repeats for repeated k-fold cross-validation\n",
        "from scipy.stats import sem\n",
        "from numpy import mean\n",
        "from numpy import std\n",
        "from sklearn.datasets import make_classification\n",
        "from sklearn.model_selection import RepeatedKFold\n",
        "from sklearn.model_selection import cross_val_score\n",
        "from sklearn.linear_model import LogisticRegression\n",
        "from matplotlib import pyplot\n",
        "\n",
        "# evaluate a model with a given number of repeats\n",
        "def evaluate_model(X, y, repeats):\n",
        "\t# prepare the cross-validation procedure\n",
        "\tcv = RepeatedKFold(n_splits=9, n_repeats=repeats, random_state=1)\n",
        "\t# create model\n",
        "\tmodel = LogisticRegression()\n",
        "\t# evaluate model\n",
        "\tscores = cross_val_score(model, X, y, scoring='accuracy', cv=cv, n_jobs=-1)\n",
        "\treturn scores\n",
        "\n",
        "# create dataset\n",
        "X, y = make_classification(n_samples=1000, n_features=20, n_informative=15, n_redundant=5, random_state=1)\n",
        "# configurations to test\n",
        "repeats = range(1,16)\n",
        "results = list()\n",
        "for r in repeats:\n",
        "\t# evaluate using a given number of repeats\n",
        "\tscores = evaluate_model(X, y, r)\n",
        "\t# summarize\n",
        "\tprint('>%d mean=%.4f se=%.3f' % (r, mean(scores), sem(scores)))\n",
        "\t# store\n",
        "\tresults.append(scores)\n",
        "# plot the results\n",
        "pyplot.boxplot(results, labels=[str(r) for r in repeats], showmeans=True)\n",
        "pyplot.show()"
      ]
    },
    {
      "cell_type": "markdown",
      "metadata": {
        "id": "mBnmCpRBvmMG"
      },
      "source": [
        "#K=11"
      ]
    },
    {
      "cell_type": "code",
      "execution_count": null,
      "metadata": {
        "colab": {
          "base_uri": "https://localhost:8080/"
        },
        "id": "ULUvyKWAvn7M",
        "outputId": "92c61ffd-c8da-4195-a5d2-9c5bef5c30b5"
      },
      "outputs": [
        {
          "name": "stdout",
          "output_type": "stream",
          "text": [
            "Accuracy: 0.869 (0.041)\n"
          ]
        }
      ],
      "source": [
        "# evaluate a logistic regression model using repeated k-fold cross-validation\n",
        "from numpy import mean\n",
        "from numpy import std\n",
        "from sklearn.datasets import make_classification\n",
        "from sklearn.model_selection import RepeatedKFold\n",
        "from sklearn.model_selection import cross_val_score\n",
        "from sklearn.linear_model import LogisticRegression\n",
        "# create dataset\n",
        "X, y = make_classification(n_samples=1000, n_features=20, n_informative=15, n_redundant=5, random_state=1)\n",
        "# prepare the cross-validation procedure\n",
        "cv = RepeatedKFold(n_splits=11, n_repeats=3, random_state=1)\n",
        "# create model\n",
        "model = LogisticRegression()\n",
        "# evaluate model\n",
        "scores = cross_val_score(model, X, y, scoring='accuracy', cv=cv, n_jobs=-1)\n",
        "# report performance\n",
        "print('Accuracy: %.3f (%.3f)' % (mean(scores), std(scores)))"
      ]
    },
    {
      "cell_type": "code",
      "execution_count": null,
      "metadata": {
        "colab": {
          "base_uri": "https://localhost:8080/",
          "height": 580
        },
        "id": "n5rUKmxZvr63",
        "outputId": "515b4f57-163e-412f-cdda-8f634733f849"
      },
      "outputs": [
        {
          "name": "stdout",
          "output_type": "stream",
          "text": [
            ">1 mean=0.8680 se=0.015\n",
            ">2 mean=0.8695 se=0.010\n",
            ">3 mean=0.8687 se=0.007\n",
            ">4 mean=0.8677 se=0.007\n",
            ">5 mean=0.8668 se=0.005\n",
            ">6 mean=0.8665 se=0.005\n",
            ">7 mean=0.8661 se=0.004\n",
            ">8 mean=0.8659 se=0.004\n",
            ">9 mean=0.8661 se=0.004\n",
            ">10 mean=0.8662 se=0.003\n",
            ">11 mean=0.8659 se=0.003\n",
            ">12 mean=0.8659 se=0.003\n",
            ">13 mean=0.8662 se=0.003\n",
            ">14 mean=0.8661 se=0.003\n",
            ">15 mean=0.8664 se=0.003\n"
          ]
        },
        {
          "name": "stderr",
          "output_type": "stream",
          "text": [
            "/usr/local/lib/python3.7/dist-packages/matplotlib/cbook/__init__.py:1376: VisibleDeprecationWarning: Creating an ndarray from ragged nested sequences (which is a list-or-tuple of lists-or-tuples-or ndarrays with different lengths or shapes) is deprecated. If you meant to do this, you must specify 'dtype=object' when creating the ndarray.\n",
            "  X = np.atleast_1d(X.T if isinstance(X, np.ndarray) else np.asarray(X))\n"
          ]
        },
        {
          "data": {
            "image/png": "[encoded data removed]",
            "text/plain": [
              "<Figure size 432x288 with 1 Axes>"
            ]
          },
          "metadata": {
            "needs_background": "light"
          },
          "output_type": "display_data"
        }
      ],
      "source": [
        "# compare the number of repeats for repeated k-fold cross-validation\n",
        "from scipy.stats import sem\n",
        "from numpy import mean\n",
        "from numpy import std\n",
        "from sklearn.datasets import make_classification\n",
        "from sklearn.model_selection import RepeatedKFold\n",
        "from sklearn.model_selection import cross_val_score\n",
        "from sklearn.linear_model import LogisticRegression\n",
        "from matplotlib import pyplot\n",
        "\n",
        "# evaluate a model with a given number of repeats\n",
        "def evaluate_model(X, y, repeats):\n",
        "\t# prepare the cross-validation procedure\n",
        "\tcv = RepeatedKFold(n_splits=11, n_repeats=repeats, random_state=1)\n",
        "\t# create model\n",
        "\tmodel = LogisticRegression()\n",
        "\t# evaluate model\n",
        "\tscores = cross_val_score(model, X, y, scoring='accuracy', cv=cv, n_jobs=-1)\n",
        "\treturn scores\n",
        "\n",
        "# create dataset\n",
        "X, y = make_classification(n_samples=1000, n_features=20, n_informative=15, n_redundant=5, random_state=1)\n",
        "# configurations to test\n",
        "repeats = range(1,16)\n",
        "results = list()\n",
        "for r in repeats:\n",
        "\t# evaluate using a given number of repeats\n",
        "\tscores = evaluate_model(X, y, r)\n",
        "\t# summarize\n",
        "\tprint('>%d mean=%.4f se=%.3f' % (r, mean(scores), sem(scores)))\n",
        "\t# store\n",
        "\tresults.append(scores)\n",
        "# plot the results\n",
        "pyplot.boxplot(results, labels=[str(r) for r in repeats], showmeans=True)\n",
        "pyplot.show()"
      ]
    },
    {
      "cell_type": "markdown",
      "metadata": {
        "id": "cfn9dAnawJpI"
      },
      "source": [
        "#K=12"
      ]
    },
    {
      "cell_type": "code",
      "execution_count": null,
      "metadata": {
        "colab": {
          "base_uri": "https://localhost:8080/"
        },
        "id": "tq_UrYu1wLVT",
        "outputId": "b37da4e6-a69d-4784-db1e-9ed08813ad62"
      },
      "outputs": [
        {
          "name": "stdout",
          "output_type": "stream",
          "text": [
            "Accuracy: 0.865 (0.043)\n"
          ]
        }
      ],
      "source": [
        "# evaluate a logistic regression model using repeated k-fold cross-validation\n",
        "from numpy import mean\n",
        "from numpy import std\n",
        "from sklearn.datasets import make_classification\n",
        "from sklearn.model_selection import RepeatedKFold\n",
        "from sklearn.model_selection import cross_val_score\n",
        "from sklearn.linear_model import LogisticRegression\n",
        "# create dataset\n",
        "X, y = make_classification(n_samples=1000, n_features=20, n_informative=15, n_redundant=5, random_state=1)\n",
        "# prepare the cross-validation procedure\n",
        "cv = RepeatedKFold(n_splits=12, n_repeats=3, random_state=1)\n",
        "# create model\n",
        "model = LogisticRegression()\n",
        "# evaluate model\n",
        "scores = cross_val_score(model, X, y, scoring='accuracy', cv=cv, n_jobs=-1)\n",
        "# report performance\n",
        "print('Accuracy: %.3f (%.3f)' % (mean(scores), std(scores)))"
      ]
    },
    {
      "cell_type": "code",
      "execution_count": null,
      "metadata": {
        "colab": {
          "base_uri": "https://localhost:8080/",
          "height": 580
        },
        "id": "62rew2SrwUPu",
        "outputId": "3a5d80eb-10d9-4cb0-ab7d-17baa69fc9d6"
      },
      "outputs": [
        {
          "name": "stdout",
          "output_type": "stream",
          "text": [
            ">1 mean=0.8660 se=0.017\n",
            ">2 mean=0.8661 se=0.010\n",
            ">3 mean=0.8654 se=0.007\n",
            ">4 mean=0.8653 se=0.006\n",
            ">5 mean=0.8654 se=0.005\n",
            ">6 mean=0.8657 se=0.005\n",
            ">7 mean=0.8649 se=0.004\n",
            ">8 mean=0.8649 se=0.004\n",
            ">9 mean=0.8653 se=0.004\n",
            ">10 mean=0.8656 se=0.003\n",
            ">11 mean=0.8657 se=0.003\n",
            ">12 mean=0.8658 se=0.003\n",
            ">13 mean=0.8660 se=0.003\n",
            ">14 mean=0.8660 se=0.003\n",
            ">15 mean=0.8660 se=0.003\n"
          ]
        },
        {
          "data": {
            "image/png": "[encoded data removed]",
            "text/plain": [
              "<Figure size 432x288 with 1 Axes>"
            ]
          },
          "metadata": {
            "needs_background": "light"
          },
          "output_type": "display_data"
        }
      ],
      "source": [
        "# compare the number of repeats for repeated k-fold cross-validation\n",
        "from scipy.stats import sem\n",
        "from numpy import mean\n",
        "from numpy import std\n",
        "from sklearn.datasets import make_classification\n",
        "from sklearn.model_selection import RepeatedKFold\n",
        "from sklearn.model_selection import cross_val_score\n",
        "from sklearn.linear_model import LogisticRegression\n",
        "from matplotlib import pyplot\n",
        "\n",
        "# evaluate a model with a given number of repeats\n",
        "def evaluate_model(X, y, repeats):\n",
        "\t# prepare the cross-validation procedure\n",
        "\tcv = RepeatedKFold(n_splits=12, n_repeats=repeats, random_state=1)\n",
        "\t# create model\n",
        "\tmodel = LogisticRegression()\n",
        "\t# evaluate model\n",
        "\tscores = cross_val_score(model, X, y, scoring='accuracy', cv=cv, n_jobs=-1)\n",
        "\treturn scores\n",
        "\n",
        "# create dataset\n",
        "X, y = make_classification(n_samples=1000, n_features=20, n_informative=15, n_redundant=5, random_state=1)\n",
        "# configurations to test\n",
        "repeats = range(1,16)\n",
        "results = list()\n",
        "for r in repeats:\n",
        "\t# evaluate using a given number of repeats\n",
        "\tscores = evaluate_model(X, y, r)\n",
        "\t# summarize\n",
        "\tprint('>%d mean=%.4f se=%.3f' % (r, mean(scores), sem(scores)))\n",
        "\t# store\n",
        "\tresults.append(scores)\n",
        "# plot the results\n",
        "pyplot.boxplot(results, labels=[str(r) for r in repeats], showmeans=True)\n",
        "pyplot.show()"
      ]
    },
    {
      "cell_type": "markdown",
      "metadata": {
        "id": "g9iOwyjmiEmd"
      },
      "source": [
        "### Summary \n",
        "#### A box & whisker plot is created to summarize the distribution of scores for each number of repeats. Organe line for median and the green line is for mean. If these values intersect, it means a reasonable symmetric distribution and the mean may follow the measure of central tendancy. Taking this into consideration, using 11 repeats with this chosen test harness and algorithm appears to be a good choice."
      ]
    },
    {
      "cell_type": "markdown",
      "metadata": {
        "id": "__AteyOCyLkK"
      },
      "source": [
        "#Reference\n",
        "\n",
        "https://machinelearningmastery.com/repeated-k-fold-cross-validation-with-python/"
      ]
    }
  ],
  "metadata": {
    "colab": {
      "collapsed_sections": [],
      "provenance": []
    },
    "kernelspec": {
      "display_name": "Python 3 (ipykernel)",
      "language": "python",
      "name": "python3"
    },
    "language_info": {
      "codemirror_mode": {
        "name": "ipython",
        "version": 3
      },
      "file_extension": ".py",
      "mimetype": "text/x-python",
      "name": "python",
      "nbconvert_exporter": "python",
      "pygments_lexer": "ipython3",
      "version": "3.9.12"
    }
  },
  "nbformat": 4,
  "nbformat_minor": 0
}